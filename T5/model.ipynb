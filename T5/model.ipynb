{
 "cells": [
  {
   "cell_type": "markdown",
   "metadata": {},
   "source": [
    "# Resources\n",
    "- [Hugging Face - T5](https://huggingface.co/docs/transformers/en/model_doc/t5)\n",
    "- [Implementing Transformer Paper (Google T5 Transformer from Scratch and using it to create a Chatbot)](https://medium.com/analytics-vidhya/googles-t5-transformer-theory-ffd0acc738d2)\n",
    "- [simpleT5](https://github.com/Shivanandroy/simpleT5)\n",
    "- [sample training with data](https://mohitmayank.com/a_lazy_data_science_guide/natural_language_processing/GPTs/#finetuning-gpt-2-for-sentiment-classification)"
   ]
  },
  {
   "cell_type": "markdown",
   "metadata": {},
   "source": [
    "1. T5: __Text-to-Text-Transfer-Transformers Model__\n",
    "2. T5 is a __Masked Language Model__ (MLM), similar to BERT.\n",
    "    - MLM is a model trained to predict the missing words in a sentence based on surrounding words. \n",
    "    - T5 replaces __multiple token to a single masked token__.\n",
    "3. "
   ]
  },
  {
   "cell_type": "markdown",
   "metadata": {},
   "source": []
  }
 ],
 "metadata": {
  "language_info": {
   "name": "python"
  }
 },
 "nbformat": 4,
 "nbformat_minor": 2
}
