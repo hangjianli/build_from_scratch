{
 "cells": [
  {
   "cell_type": "markdown",
   "metadata": {},
   "source": [
    "# We build a transformer for English-Chinese translation"
   ]
  },
  {
   "cell_type": "markdown",
   "metadata": {},
   "source": [
    "Source: [The Annotated Transformer: English-to-Chinese Translator](https://cuicaihao.com/the-annotated-transformer-english-to-chinese-translator/)\n",
    "\n",
    "Other resources:\n",
    "\n",
    "- [Build your own Transformer from scratch using Pytorch](https://towardsdatascience.com/build-your-own-transformer-from-scratch-using-pytorch-84c850470dcb)\n",
    "- [Vanilla-transformer Repo by Aryan Shekarlaban](https://github.com/arxyzan/vanilla-transformer?tab=readme-ov-file)\n",
    "- [The Illustrated Transformer by Jay Alammar](https://jalammar.github.io/illustrated-transformer/)\n",
    "- [The Original Transformer (PyTorch) by Aleksa Gordic](https://github.com/gordicaleksa/pytorch-original-transformer)\n",
    "- [Attention is all you need from scratch by Aladdin Persson](https://github.com/aladdinpersson/Machine-Learning-Collection/blob/master/ML/Pytorch/more_advanced/Seq2Seq_attention/seq2seq_attention.py)\n",
    "- [PyTorch Seq2Seq by Ben Trevett](https://github.com/bentrevett/pytorch-seq2seq)\n",
    "- [Transformers: Attention in Disguise by Mihail Eric](https://www.mihaileric.com/posts/transformers-attention-in-disguise/)\n",
    "- [The Annotated Transformer by Harvard NLP](http://nlp.seas.harvard.edu/2018/04/03/attention.html)\n"
   ]
  },
  {
   "cell_type": "markdown",
   "metadata": {},
   "source": [
    "## High-level structure\n",
    "\n",
    "- __Encoder__: transforms the input sentence (list of tokens) into numeric matrix format. \n",
    "- __Decoder__: map embedding back to another language. \n",
    "\n",
    "### Encoder structure:\n",
    "1. Data preparation <br>\n",
    "    * tokenize the original sentences in input language. <br>\n",
    "        - apply tokenizer to each original sentence and append `BOS` and `EOS` to the new token sentence.\n",
    "        \n",
    "    * build vocab (language encoder and decoder) including \"word-to-id\" and \"id-to-word\". <br>\n",
    "        - for all word in vocab (max word is tunable)\n",
    "    * sort the vocab to reduce padding. <br>\n",
    "        - padding: pad (to the right) with zeros of seq length < max len\n",
    "    * split the dataset into patches. <br>\n",
    "        - define an `Batch` object to hold __src__ and __target__ sentences. \n",
    "        - `Batch` has `mask` method: \n",
    "2. Positional encoding\n",
    "3. Self-attention + masking\n",
    "4. Layer norm + residual\n",
    "5. Feedforward layer\n",
    "6. Layer normal + residual"
   ]
  },
  {
   "cell_type": "markdown",
   "metadata": {},
   "source": [
    "### Masking\n",
    "- The input `X` is `[batch−size, sequence−length]`, we use ‘padding’ to fill the matrix with 0 with respect to the longest sequence.\n",
    "- But this will case issues for the softmax computation. This means the padding sections join the computation, but they shouldn’t. \n",
    "- So we create this mask to ignore these area by assign a large negative bias. Thus, the masked area will lead to 0 so we avoid them in computation. We use mini-batch data as input, means we feed multiply lines of sentences into the model for training and computation."
   ]
  },
  {
   "cell_type": "markdown",
   "metadata": {},
   "source": [
    "# Load Data"
   ]
  },
  {
   "cell_type": "code",
   "execution_count": null,
   "metadata": {
    "vscode": {
     "languageId": "plaintext"
    }
   },
   "outputs": [],
   "source": []
  },
  {
   "cell_type": "markdown",
   "metadata": {},
   "source": [
    "## Questions:\n",
    "\n",
    "1. "
   ]
  }
 ],
 "metadata": {
  "kernelspec": {
   "display_name": "finetune",
   "language": "python",
   "name": "python3"
  },
  "language_info": {
   "codemirror_mode": {
    "name": "ipython",
    "version": 3
   },
   "file_extension": ".py",
   "mimetype": "text/x-python",
   "name": "python",
   "nbconvert_exporter": "python",
   "pygments_lexer": "ipython3",
   "version": "3.9.9"
  }
 },
 "nbformat": 4,
 "nbformat_minor": 2
}
